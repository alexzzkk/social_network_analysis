{
 "cells": [
  {
   "cell_type": "markdown",
   "id": "ff2d0703-1cf5-442a-9730-5b054a09ec32",
   "metadata": {},
   "source": [
    "# Part 2: Email Behaviour Data Analysis"
   ]
  },
  {
   "cell_type": "markdown",
   "id": "94d3b813-a930-4d20-949d-557a59bd8724",
   "metadata": {
    "tags": []
   },
   "source": [
    "---"
   ]
  },
  {
   "cell_type": "markdown",
   "id": "d9389eca-4427-450f-b86d-2954730560af",
   "metadata": {
    "tags": []
   },
   "source": [
    "### Install Python packages (pip only)"
   ]
  },
  {
   "cell_type": "code",
   "execution_count": 1,
   "id": "561e7d2b-d506-4b97-9e0a-4643d5ef91d0",
   "metadata": {},
   "outputs": [
    {
     "name": "stdout",
     "output_type": "stream",
     "text": [
      "Requirement already satisfied: networkx in /Users/zhukai/anaconda3/lib/python3.11/site-packages (3.1)\n",
      "Note: you may need to restart the kernel to use updated packages.\n"
     ]
    }
   ],
   "source": [
    "#e.g., %pip install some-package\n",
    "%pip install networkx"
   ]
  },
  {
   "cell_type": "markdown",
   "id": "661a426f-00b3-4eab-b8ff-3897a5bf2e87",
   "metadata": {},
   "source": [
    "### Import Python packages"
   ]
  },
  {
   "cell_type": "code",
   "execution_count": 2,
   "id": "9fde3e57-85f4-46f2-9999-96434563cc69",
   "metadata": {},
   "outputs": [],
   "source": [
    "#e.g., import some-package\n",
    "import networkx as nx\n",
    "import numpy as np\n",
    "import pandas as pd"
   ]
  },
  {
   "cell_type": "markdown",
   "id": "31f7e832-7044-47ce-84b0-610a465e6b1d",
   "metadata": {},
   "source": [
    "---"
   ]
  },
  {
   "cell_type": "markdown",
   "id": "6be69931-f66d-490c-8f4f-3d8016c72c13",
   "metadata": {
    "tags": []
   },
   "source": [
    "### Task 1 of 1 \n",
    "\n",
    "Examine the file \"emails_cmt224.edgelist\" which represents email behaviour at an organisation. Each line contains two numbers, 𝑢 and 𝑣, separated by a blank space. Consider each number as an identifier for an individual in an organisation, with the space on each line representing that the individual, 𝑢, sent at least one email to the another individual, 𝑣, at some point. Model the data using an appropriate, directed network representation and answer the following questions:"
   ]
  },
  {
   "cell_type": "markdown",
   "id": "e2fa5455-293e-4b4b-b084-71d0cb31d40b",
   "metadata": {},
   "source": [
    "##### Q1. Do the majority of individuals have a higher or lower ratio of mutual connections than average in the network?"
   ]
  },
  {
   "cell_type": "code",
   "execution_count": 3,
   "id": "84bbaf04-0d29-457c-9c5c-83da2ce1a57a",
   "metadata": {},
   "outputs": [
    {
     "name": "stdout",
     "output_type": "stream",
     "text": [
      "0.65\n"
     ]
    }
   ],
   "source": [
    "#CODE:\n",
    "#create a directed network\n",
    "G = nx.read_edgelist(\"emails_cmt224.edgelist\",create_using = nx.DiGraph)\n",
    "\n",
    "#calculate local reciprocity for each node\n",
    "local_reciprocity = list(nx.reciprocity(G,G.nodes()).values())\n",
    "\n",
    "#find nodes that have higher local reciprocity than the average in the network\n",
    "higher_than = [i for i in local_reciprocity  if i>np.mean(local_reciprocity)]\n",
    "\n",
    "#calcualte the percentage\n",
    "answer_q1 = len(higher_than) / len(local_reciprocity)\n",
    "\n",
    "print(round(answer_q1,2))"
   ]
  },
  {
   "cell_type": "markdown",
   "id": "8f3928a1",
   "metadata": {},
   "source": [
    "ANSWER: Majority of individuals (approximately 65%) have a higher ratio of mutual connections than the average.\n",
    "- Explanation:\n",
    "    - The email behaviour is directed; thus, a directed graph was created.\n",
    "    - Local reciprocity was calculated for each node.\n",
    "    - Nodes that have reciprocity higher than average in the network were generated.\n",
    "    - The fraction was calculated.\n",
    "- Justification:\n",
    "    - Ratio of mutual connection indicates that the local reciprocity metric should be examined as it considers the ratio of the edges in both directions(mutual) for a given node.\n",
    "    - One may choose to compare local reciprocity with overall reciprocity. However, it's important to remember that the latter is not simply an average; it's a measure computed for the entire network."
   ]
  },
  {
   "cell_type": "markdown",
   "id": "a88f1282-c982-44a1-943b-a1e58d6cfd5f",
   "metadata": {
    "tags": []
   },
   "source": [
    "##### Q2. Using the largest, strongly connected component (where at least one path exists between each individual and all others). Could the connectivity of the component be suggested to be reflective of a small world phenomenon in comparison to the typical connectivity of 10 comparative random networks?"
   ]
  },
  {
   "cell_type": "code",
   "execution_count": 4,
   "id": "4a1eeda7",
   "metadata": {
    "scrolled": true,
    "tags": []
   },
   "outputs": [
    {
     "name": "stdout",
     "output_type": "stream",
     "text": [
      "Average shortest path length are 2.56(LSCC of email network) and 2.32(random networks), and average clustering are 0.39(LSCC of email network) and 0.04(random networks)\n"
     ]
    }
   ],
   "source": [
    "#CODE:\n",
    "#find the strongly connected components in the graph\n",
    "scc_component = nx.strongly_connected_components(G)\n",
    "\n",
    "#sort the generator result\n",
    "scc_sort_by_no_of_nodes = sorted(scc_component, key=len, reverse=True)\n",
    "\n",
    "#get the largest connected component\n",
    "lscc_sort_by_no_of_nodes = scc_sort_by_no_of_nodes[0]\n",
    "\n",
    "#create a subgraph from graph G\n",
    "lscc = G.subgraph(lscc_sort_by_no_of_nodes).copy()\n",
    "\n",
    "#calculate average shortest path length and clustering for measuring the connectivity\n",
    "def generate_random_graph(no_of_nodes, no_of_edges):\n",
    "    #generate a random directed graph with same number of edges and nodes as given arguments\n",
    "    random_g = nx.gnm_random_graph(no_of_nodes, no_of_edges, directed=True)\n",
    "    #find the strongly connected components in the random graph\n",
    "    random_scc_component = nx.strongly_connected_components(random_g)\n",
    "    #sort the generator result and get the largest\n",
    "    lscc_random_g = sorted(random_scc_component, key=len, reverse=True)[0]\n",
    "    #create a subgraph from graph random graph\n",
    "    random_lscc = random_g.subgraph(lscc_random_g).copy()\n",
    "    return nx.average_shortest_path_length(random_lscc),nx.average_clustering(random_lscc)\n",
    "\n",
    "#place holder for average shortest path length and clustering in random graph\n",
    "random_aspl = []\n",
    "random_ac = []\n",
    "\n",
    "#execute the generate function 10 times and append the average shortest path length and clustering to the list\n",
    "for i in range(0,10):\n",
    "    random_aspl.append(generate_random_graph(lscc.number_of_nodes(),lscc.number_of_edges())[0])\n",
    "    random_ac.append(generate_random_graph(lscc.number_of_nodes(),lscc.number_of_edges())[1])\n",
    "\n",
    "print(\"Average shortest path length are {0}(LSCC of email network) and {2}(random networks), and average clustering are {1}(LSCC of email network) and {3}(random networks)\"\n",
    "    .format(round(nx.average_shortest_path_length(lscc),2),\n",
    "            round(nx.average_clustering(lscc),2),\n",
    "            round(np.mean(random_aspl),2),\n",
    "            round(np.mean(random_ac),2)))"
   ]
  },
  {
   "cell_type": "markdown",
   "id": "55145d84",
   "metadata": {},
   "source": [
    "ANSWER: The small world phenomenon can be perceived in the largest, strongly connected component (LSCC) in social network. \n",
    "- Explanation:\n",
    "    - The LSCC of social network was generated. \n",
    "    - A function for generating random network was created which takes the number of nodes and edges of the LSCC and returns its average shortest path length and average clustering.\n",
    "    - Executed 10 times to generate two metrics for 10 comparative random networks. \n",
    "- Justification:\n",
    "    - To measure the small world phenomenon, average shortest path length and average clustering are typically used. \n",
    "    - One may choose to use eccentricity metric, but it is sensitive to \"outliers\" (long chain of edges skew the value).\n",
    "    - There are other approaches like nx.omega or nx.sigma but are for undirected graph."
   ]
  },
  {
   "cell_type": "markdown",
   "id": "a1ea162f-553b-402d-b437-99b95cc9821a",
   "metadata": {},
   "source": [
    "##### Q3. Are occurrences of induced, connected subgraphs of 3 individuals (triads) with only mutual connections more abundant in the largest, strongly connected component than those with a mixture of asymmetric and mutual connections? What does this suggest about how mutual connections are distributed in the component?"
   ]
  },
  {
   "cell_type": "code",
   "execution_count": 5,
   "id": "f93ce721-0797-4803-b06b-d3e0a0a04027",
   "metadata": {},
   "outputs": [
    {
     "name": "stdout",
     "output_type": "stream",
     "text": [
      "{'120D': 3549, '120U': 4096, '120C': 3954, '210': 17333, '300': 12982}\n"
     ]
    }
   ],
   "source": [
    "#CODE\n",
    "#list a count of how many of the 16 possible types of triads are present in a directed graph\n",
    "lscc_tradic_census = nx.triadic_census(lscc)\n",
    "\n",
    "#triads(induced, connected) - only mutual connections => type 16 - 300\n",
    "#triads(induced, connected) - with a mixture of asymmetric and mutual connections => type 120D/120U/120C/210\n",
    "answer_q3 = {key:value for (key,value) in lscc_tradic_census.items() if key[0]=='3' or (key[0]!='0' and key[1]!='0' and key[2]=='0')}\n",
    "print(answer_q3)"
   ]
  },
  {
   "cell_type": "markdown",
   "id": "91e6ae70",
   "metadata": {},
   "source": [
    "ANSWER: In the largest, strongly connected component, the occurrences of type 300 triad is less abundant than the occurrences of type 120D, 120U, 120C, and 210 combined, which suggests that the distribution of mutual connections is less frequent in the component and less observable.\n",
    "- Explanation:\n",
    "    - Triadic_census function was used to count the quantity of 16 possible types of triads.\n",
    "    - Relevant types were extracted from the results.\n",
    "- Justification:\n",
    "    - Induced, connected subgraphs indicates that there must be a path between every pair of nodes with then subgraphs. This excludes types which do not fulfil such condition.\n",
    "    - Triad with only mutual connection is type 300.\n",
    "    - Triads with a mixture of asymmetric and mutual connections are type 120D/120U/120C/210."
   ]
  },
  {
   "cell_type": "markdown",
   "id": "00cddf41-8d3e-4177-8aba-c7a322a8ff58",
   "metadata": {},
   "source": [
    "---\n",
    "### Task 2 of 2\n",
    "\n",
    "Examine the JSON file \"emails_cmt224_departments.json\" (departments file). Keys in the departments file represent individuals using the same ids as in the \"emails_cmt224.edgelist\" file in Part 2, Task 1 and the values represent a department id that the individual can be attributed to. Using the contents of the departments file in combination with the network in Part 2, Task 1, answer the following questions:"
   ]
  },
  {
   "cell_type": "markdown",
   "id": "754c1e34-252d-4786-9b57-0dfe9e76ec5c",
   "metadata": {},
   "source": [
    "##### Q1. Using the connections that individuals have in the network, are they more likely to mix with others in their department or those with a similar number of outward connections?"
   ]
  },
  {
   "cell_type": "code",
   "execution_count": 6,
   "id": "52119076-b214-41ed-a0b0-11a3d6e0e2a7",
   "metadata": {},
   "outputs": [
    {
     "name": "stdout",
     "output_type": "stream",
     "text": [
      "Assortativity coefficient with respect to attribute is 0.29 whereas degree_assortativity_coefficient is -0.02.\n"
     ]
    }
   ],
   "source": [
    "#CODE:\n",
    "#load the department data\n",
    "df_depart = pd.read_json(\"emails_cmt224_departments.json\",lines=True).T.reset_index()\n",
    "\n",
    "#modify the type of index as string\n",
    "df_depart['index'] = df_depart['index'].astype(str)\n",
    "\n",
    "#rename the column 0 as depart\n",
    "df_depart.rename(columns={0:'depart'},inplace=True)\n",
    "\n",
    "#create a dataframe that assign the department as attribute for each node\n",
    "depart_attr = df_depart.set_index('index',drop=True).to_dict(orient='index')\n",
    "\n",
    "#set the attribute of node\n",
    "nx.set_node_attributes(G,depart_attr)\n",
    "\n",
    "#calculate the assortativity\n",
    "attr_assort = nx.attribute_assortativity_coefficient(G, \"depart\")\n",
    "\n",
    "# The default NetworkX implementation of the degree_assortativity_coefficient(..) method \n",
    "# compares the 'in' degree of source nodes with the 'out' degree of target nodes\n",
    "degree_assort = nx.degree_assortativity_coefficient(G, x = 'out', y = 'out')\n",
    "\n",
    "print(\"Assortativity coefficient with respect to attribute is {0} whereas degree_assortativity_coefficient is {1}.\".format(round(attr_assort,2),round(degree_assort,2)))"
   ]
  },
  {
   "cell_type": "markdown",
   "id": "c517a1c2",
   "metadata": {},
   "source": [
    "ANSWER: Individuals are more likely to mix with others in same department (Attribute assortativity coefficient is 0.29) than those with similar number of outward connections (Degree assortativity coefficient is -0.02).\n",
    "- Explanation: \n",
    "    - Department attribute was assigned for each node from a pandas dataframe.\n",
    "    - Attribute assortativity coefficient was calculated.\n",
    "    - Then, degree assortativity coefficient was calculated.\n",
    "- Justification:\n",
    "    - Assortativity measures the similarity of connections, which is suitable for answering the question about homophily:\n",
    "        - Attribute assortativity coefficient was calculated with respect to the department attribute of each node.\n",
    "        - Degree assortativity coefficient was calculated. Note the x and y were all set to \"out\", instead of seting to default since the question is asking similar outward connections."
   ]
  },
  {
   "cell_type": "markdown",
   "id": "3a83c73f-b498-49c4-abfb-46b52e34427b",
   "metadata": {
    "tags": []
   },
   "source": [
    "##### Q2. Are all departments with 15 or more members more tightly connected amongst themselves in comparison to all individuals across the overall network irrespective of their department?  Where in this context, 'more tightly connected' is defined as having more mutual AND clustered connections. In addition to answering the overall question as yes or no, provide a list of departments this is true for (if any) and not true for (if any)."
   ]
  },
  {
   "cell_type": "code",
   "execution_count": 7,
   "id": "70af8529-4fce-4910-a4b0-449862f1b96a",
   "metadata": {
    "scrolled": false
   },
   "outputs": [
    {
     "name": "stdout",
     "output_type": "stream",
     "text": [
      "Situation 1 - Overall: True\n"
     ]
    },
    {
     "data": {
      "text/html": [
       "<div>\n",
       "<style scoped>\n",
       "    .dataframe tbody tr th:only-of-type {\n",
       "        vertical-align: middle;\n",
       "    }\n",
       "\n",
       "    .dataframe tbody tr th {\n",
       "        vertical-align: top;\n",
       "    }\n",
       "\n",
       "    .dataframe thead th {\n",
       "        text-align: right;\n",
       "    }\n",
       "</style>\n",
       "<table border=\"1\" class=\"dataframe\">\n",
       "  <thead>\n",
       "    <tr style=\"text-align: right;\">\n",
       "      <th></th>\n",
       "      <th>depart_id</th>\n",
       "      <th>overall_reciprocity</th>\n",
       "      <th>average_clustering</th>\n",
       "      <th>is_more_tightly_connected</th>\n",
       "    </tr>\n",
       "  </thead>\n",
       "  <tbody>\n",
       "    <tr>\n",
       "      <th>0</th>\n",
       "      <td>0</td>\n",
       "      <td>0.69</td>\n",
       "      <td>0.46</td>\n",
       "      <td>False</td>\n",
       "    </tr>\n",
       "    <tr>\n",
       "      <th>1</th>\n",
       "      <td>1</td>\n",
       "      <td>0.66</td>\n",
       "      <td>0.53</td>\n",
       "      <td>False</td>\n",
       "    </tr>\n",
       "    <tr>\n",
       "      <th>2</th>\n",
       "      <td>4</td>\n",
       "      <td>0.71</td>\n",
       "      <td>0.37</td>\n",
       "      <td>False</td>\n",
       "    </tr>\n",
       "    <tr>\n",
       "      <th>3</th>\n",
       "      <td>6</td>\n",
       "      <td>0.00</td>\n",
       "      <td>0.07</td>\n",
       "      <td>False</td>\n",
       "    </tr>\n",
       "    <tr>\n",
       "      <th>4</th>\n",
       "      <td>7</td>\n",
       "      <td>0.69</td>\n",
       "      <td>0.50</td>\n",
       "      <td>False</td>\n",
       "    </tr>\n",
       "    <tr>\n",
       "      <th>5</th>\n",
       "      <td>8</td>\n",
       "      <td>0.70</td>\n",
       "      <td>0.65</td>\n",
       "      <td>True</td>\n",
       "    </tr>\n",
       "    <tr>\n",
       "      <th>6</th>\n",
       "      <td>9</td>\n",
       "      <td>0.79</td>\n",
       "      <td>0.44</td>\n",
       "      <td>True</td>\n",
       "    </tr>\n",
       "    <tr>\n",
       "      <th>7</th>\n",
       "      <td>10</td>\n",
       "      <td>0.74</td>\n",
       "      <td>0.58</td>\n",
       "      <td>True</td>\n",
       "    </tr>\n",
       "    <tr>\n",
       "      <th>8</th>\n",
       "      <td>11</td>\n",
       "      <td>0.74</td>\n",
       "      <td>0.71</td>\n",
       "      <td>True</td>\n",
       "    </tr>\n",
       "    <tr>\n",
       "      <th>9</th>\n",
       "      <td>13</td>\n",
       "      <td>0.85</td>\n",
       "      <td>0.67</td>\n",
       "      <td>True</td>\n",
       "    </tr>\n",
       "    <tr>\n",
       "      <th>10</th>\n",
       "      <td>14</td>\n",
       "      <td>0.67</td>\n",
       "      <td>0.44</td>\n",
       "      <td>False</td>\n",
       "    </tr>\n",
       "    <tr>\n",
       "      <th>11</th>\n",
       "      <td>15</td>\n",
       "      <td>0.68</td>\n",
       "      <td>0.36</td>\n",
       "      <td>False</td>\n",
       "    </tr>\n",
       "    <tr>\n",
       "      <th>12</th>\n",
       "      <td>16</td>\n",
       "      <td>0.75</td>\n",
       "      <td>0.76</td>\n",
       "      <td>True</td>\n",
       "    </tr>\n",
       "    <tr>\n",
       "      <th>13</th>\n",
       "      <td>17</td>\n",
       "      <td>0.84</td>\n",
       "      <td>0.70</td>\n",
       "      <td>True</td>\n",
       "    </tr>\n",
       "    <tr>\n",
       "      <th>14</th>\n",
       "      <td>19</td>\n",
       "      <td>0.80</td>\n",
       "      <td>0.74</td>\n",
       "      <td>True</td>\n",
       "    </tr>\n",
       "    <tr>\n",
       "      <th>15</th>\n",
       "      <td>21</td>\n",
       "      <td>0.75</td>\n",
       "      <td>0.52</td>\n",
       "      <td>True</td>\n",
       "    </tr>\n",
       "    <tr>\n",
       "      <th>16</th>\n",
       "      <td>22</td>\n",
       "      <td>0.81</td>\n",
       "      <td>0.41</td>\n",
       "      <td>True</td>\n",
       "    </tr>\n",
       "    <tr>\n",
       "      <th>17</th>\n",
       "      <td>23</td>\n",
       "      <td>0.15</td>\n",
       "      <td>0.11</td>\n",
       "      <td>False</td>\n",
       "    </tr>\n",
       "    <tr>\n",
       "      <th>18</th>\n",
       "      <td>36</td>\n",
       "      <td>0.83</td>\n",
       "      <td>0.75</td>\n",
       "      <td>True</td>\n",
       "    </tr>\n",
       "  </tbody>\n",
       "</table>\n",
       "</div>"
      ],
      "text/plain": [
       "    depart_id  overall_reciprocity  average_clustering  \\\n",
       "0           0                 0.69                0.46   \n",
       "1           1                 0.66                0.53   \n",
       "2           4                 0.71                0.37   \n",
       "3           6                 0.00                0.07   \n",
       "4           7                 0.69                0.50   \n",
       "5           8                 0.70                0.65   \n",
       "6           9                 0.79                0.44   \n",
       "7          10                 0.74                0.58   \n",
       "8          11                 0.74                0.71   \n",
       "9          13                 0.85                0.67   \n",
       "10         14                 0.67                0.44   \n",
       "11         15                 0.68                0.36   \n",
       "12         16                 0.75                0.76   \n",
       "13         17                 0.84                0.70   \n",
       "14         19                 0.80                0.74   \n",
       "15         21                 0.75                0.52   \n",
       "16         22                 0.81                0.41   \n",
       "17         23                 0.15                0.11   \n",
       "18         36                 0.83                0.75   \n",
       "\n",
       "    is_more_tightly_connected  \n",
       "0                       False  \n",
       "1                       False  \n",
       "2                       False  \n",
       "3                       False  \n",
       "4                       False  \n",
       "5                        True  \n",
       "6                        True  \n",
       "7                        True  \n",
       "8                        True  \n",
       "9                        True  \n",
       "10                      False  \n",
       "11                      False  \n",
       "12                       True  \n",
       "13                       True  \n",
       "14                       True  \n",
       "15                       True  \n",
       "16                       True  \n",
       "17                      False  \n",
       "18                       True  "
      ]
     },
     "execution_count": 7,
     "metadata": {},
     "output_type": "execute_result"
    }
   ],
   "source": [
    "#CODE:\n",
    "#Find out the departments with 15 or more members\n",
    "depart_morethan_15_mem = df_depart.pivot_table(index=['depart'],\n",
    "                                               values=['index'],\n",
    "                                               aggfunc=len)\\\n",
    ".query(\"index >=15\").reset_index()['depart'].to_list()\n",
    "\n",
    "\"\"\"computing the reciprocity and average clustering for the entire network irrespective of their department\"\"\"\n",
    "entire_network_reciprocity = round(nx.reciprocity(G),2)\n",
    "entire_network_clustering = round(nx.average_clustering(G),2)\n",
    "\n",
    "\"\"\"consider all departments >=15 members as a whole subgraph\"\"\"\n",
    "G_depart_15_mem = G.subgraph([node for node,data in G.nodes(data=True) if data.get('depart') in depart_morethan_15_mem])\n",
    "G_depart_15_mem_reciprocity = round(nx.reciprocity(G_depart_15_mem),2)\n",
    "G_depart_15_mem_clustering = round(nx.average_clustering(G_depart_15_mem),2)\n",
    "#print the answer\n",
    "answer_task2_q2 = G_depart_15_mem_reciprocity>entire_network_reciprocity and G_depart_15_mem_clustering >  entire_network_clustering\n",
    "\n",
    "\"\"\"consider all department >=15 members as 15 separately subgraphs\"\"\"\n",
    "#create an empty list for appending nodes for different department\n",
    "G_graph_list = []\n",
    "#append the list use for loop\n",
    "for depart in depart_morethan_15_mem:\n",
    "    G_graph_list.append((depart,G.subgraph([node for node,data in G.nodes(data=True) if data.get('depart')== depart])))\n",
    "\n",
    "#create three lists for appending the results of overal reciprocity and average_clustering for each depart id\n",
    "depart_id = []\n",
    "depart_reciprocity = []\n",
    "depart_average_clustering = []\n",
    "\n",
    "#calculate the reciprocity and average clustering for each depart in for-loop and append the results to the list\n",
    "for depart, network in G_graph_list:\n",
    "    depart_id.append(depart)\n",
    "    depart_reciprocity.append(round(nx.reciprocity(network),2))\n",
    "    depart_average_clustering.append(round(nx.average_clustering(network),2))\n",
    "    \n",
    "#create a dictonary for the result\n",
    "dict_result = {'depart_id': depart_id, 'overall_reciprocity': depart_reciprocity, 'average_clustering': depart_average_clustering} \n",
    "\n",
    "#create a function that return True or False based on the condition\n",
    "def is_more_tightly_connected(x):\n",
    "    return x['overall_reciprocity']>entire_network_reciprocity and x['average_clustering']>entire_network_clustering\n",
    "\n",
    "#Transform dictionray to pandas dataframe\n",
    "df_result_by_depart = pd.DataFrame(dict_result)\n",
    "\n",
    "#Apply function to the whole dataframe and create a column to store the result\n",
    "df_result_by_depart['is_more_tightly_connected'] = df_result_by_depart.apply(is_more_tightly_connected,axis=1)\n",
    "\n",
    "print(\"Situation 1 - Overall:\",answer_task2_q2)\n",
    "df_result_by_depart"
   ]
  },
  {
   "cell_type": "markdown",
   "id": "bf0fad0f",
   "metadata": {},
   "source": [
    "ANSWER: If perceive departments(>=15 members) as a whole, it is true that they are more tightly connected amongst themselves in comparison to the overall network. However, if examine each department(>=15 members) and compare with the overall network, the results vary as listed.\n",
    "- Explanation: \n",
    "    - One subgraph containing all departments with 15 or more members as a whole was created.\n",
    "    - Metrics(overall_reciprocity/average_clustering) were calculated for the whole network and the above subgraph for direct comparison.\n",
    "    - 19 individual subgraphs were created for each department(with members >=15). The metrics were calculated for each and compared with the entire network.\n",
    "- Justification: \n",
    "    - According to the definition in question, below metrics are more relevant:\n",
    "        - Mutual connection can be measured using overall_reciprocity\n",
    "        - Clustered connection can be measured using average_clustering"
   ]
  }
 ],
 "metadata": {
  "kernelspec": {
   "display_name": "Python 3",
   "language": "python",
   "name": "python3"
  },
  "language_info": {
   "codemirror_mode": {
    "name": "ipython",
    "version": 3
   },
   "file_extension": ".py",
   "mimetype": "text/x-python",
   "name": "python",
   "nbconvert_exporter": "python",
   "pygments_lexer": "ipython3",
   "version": "3.11.5"
  },
  "toc": {
   "base_numbering": 1,
   "nav_menu": {},
   "number_sections": true,
   "sideBar": true,
   "skip_h1_title": false,
   "title_cell": "Table of Contents",
   "title_sidebar": "Contents",
   "toc_cell": false,
   "toc_position": {},
   "toc_section_display": true,
   "toc_window_display": false
  }
 },
 "nbformat": 4,
 "nbformat_minor": 5
}
