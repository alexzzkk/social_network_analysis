{
 "cells": [
  {
   "cell_type": "markdown",
   "id": "a1f89f09-3153-4e19-82b5-d168d382809b",
   "metadata": {},
   "source": [
    "# Part 1: Social Media Behaviour Data Analysis"
   ]
  },
  {
   "cell_type": "markdown",
   "id": "b7273255-ab87-4c85-951d-b03c7cad8023",
   "metadata": {
    "tags": []
   },
   "source": [
    "\n",
    "---"
   ]
  },
  {
   "cell_type": "markdown",
   "id": "e1ccb25c-1685-484a-bf08-c4bc9acd9cf3",
   "metadata": {
    "tags": []
   },
   "source": [
    "### Install Python packages (pip only)"
   ]
  },
  {
   "cell_type": "code",
   "execution_count": 1,
   "id": "f4e03f4e-9153-4f7d-ae6f-2f89909a1288",
   "metadata": {},
   "outputs": [
    {
     "name": "stdout",
     "output_type": "stream",
     "text": [
      "Requirement already satisfied: networkx in /Users/zhukai/anaconda3/lib/python3.11/site-packages (3.1)\n",
      "Note: you may need to restart the kernel to use updated packages.\n"
     ]
    }
   ],
   "source": [
    "#e.g., %pip install some-package\n",
    "%pip install networkx"
   ]
  },
  {
   "cell_type": "markdown",
   "id": "2b8621e2-e003-46b7-be7b-20a3f167559a",
   "metadata": {
    "tags": []
   },
   "source": [
    "### Import Python packages"
   ]
  },
  {
   "cell_type": "code",
   "execution_count": 2,
   "id": "d7c00360-c9d4-4781-b9e5-0181f1652bb8",
   "metadata": {},
   "outputs": [],
   "source": [
    "#e.g., import some-package\n",
    "import networkx as nx\n",
    "from scipy import stats\n",
    "import pandas as pd"
   ]
  },
  {
   "cell_type": "markdown",
   "id": "ffa95b1b-31b8-44ad-9e9c-e2299b8cd2cf",
   "metadata": {},
   "source": [
    "---"
   ]
  },
  {
   "cell_type": "markdown",
   "id": "aa9a6985-71fb-4810-8dad-cd171aedf8a9",
   "metadata": {
    "tags": []
   },
   "source": [
    "### Task 1 of 1\n",
    "\n",
    "Examine the Graph Modelling Language (gml) files \"socialmedia_cmt224_reply_network.gml\" (reply network) and \"socialmedia_cmt224_social_network.gml\" (social network) which represent Twitter data between a sample of users over several days at the time of the Higgs boson particle discovery. Both networks are directed and share the same ids for nodes (anonymised Twitter users).  However, the shared user ids are contained within the \"label\" attribute in the .gml files, not the node \"id\" attribute of each individual .gml file.\n",
    "\n",
    "In the reply network, an edge from a node, 𝑢, to some other node, 𝑣, indicates that 𝑢 replied to a Tweet made by 𝑣 during the time period. Replies are also Tweets. Edges are weighted with the weight representing the number of times this happened over the time period.\n",
    "\n",
    "In the social network, an edge from node 𝑢 to 𝑣 indicates that 𝑢 follows 𝑣 on the social media platform.\n",
    "\n",
    "Using these networks, answer the following questions:"
   ]
  },
  {
   "cell_type": "markdown",
   "id": "2e51a390-c558-451c-8f1e-3009d9fdd525",
   "metadata": {
    "tags": []
   },
   "source": [
    "##### Q1. What fraction of users do not reply to or follow any other user, but have had others reply to their Tweets?"
   ]
  },
  {
   "cell_type": "code",
   "execution_count": 3,
   "id": "23d86c8c-c4fe-4fff-a741-84694bfc1b7e",
   "metadata": {},
   "outputs": [
    {
     "name": "stdout",
     "output_type": "stream",
     "text": [
      "0.37\n"
     ]
    }
   ],
   "source": [
    "#CODE:\n",
    "#Load the reply and social networks data\n",
    "G_reply = nx.read_gml(\"socialmedia_cmt224_reply_network.gml\", label = \"label\").to_directed()\n",
    "G_social = nx.read_gml(\"socialmedia_cmt224_social_network.gml\", label = \"label\").to_directed()\n",
    "\n",
    "#create a list for those nodes without out degree in reply network => meaning they do not reply\n",
    "who_donot_reply = [n for (n,out_) in G_reply.out_degree if out_ == 0 ]\n",
    "\n",
    "#create a list for those nodes without out degree in social network => meaning they do not follow\n",
    "who_donot_follow = [n for (n,out_) in G_social.out_degree if out_ == 0 ]\n",
    "\n",
    "#transform combined lists into a set to remove duplicated nodes => meaning those who do not reply or fllow\n",
    "who_donot_reply_or_follow = set(who_donot_reply + who_donot_follow)\n",
    "\n",
    "#create a list for those nodes with in degree > 0 in reply network => meaning they got reply from others\n",
    "who_get_replied = [n for (n,in_) in G_reply.in_degree if in_ > 0 ]\n",
    "\n",
    "#find the intersection nodes\n",
    "those_had_others_replied = who_donot_reply_or_follow.intersection(who_get_replied)\n",
    "\n",
    "#calculate the answer\n",
    "answer1 = len(those_had_others_replied) / G_reply.number_of_nodes()\n",
    "print(round(answer1,2))"
   ]
  },
  {
   "cell_type": "markdown",
   "id": "622fcef7",
   "metadata": {},
   "source": [
    "Answer: The fraction is around 37/100(37%).\n",
    "- Explanation: \n",
    "    - Directed graphs were created due to directed behaviours. Label attributes were set to 'label', allowing consistency when cross-analysing. \n",
    "    - Two subsets of nodes were created based on their reply and follow behaviours. \n",
    "    - A set of nodes existing in both subsets was found using intersection.\n",
    "- Justification:\n",
    "    - The \"degree\" of a node is the sum of \"in\" and \"out\" edges in a directed network, a potentially worse method is to compute the whole “degree”.\n",
    "    - Therefore, it is more appropriate to consider:\n",
    "        - Users who do not reply or follow are those with out-degree equals to 0 in both networks.\n",
    "        - Users who got reply from others are those with in-degree greater than 0 in reply network."
   ]
  },
  {
   "cell_type": "markdown",
   "id": "e8297318-7065-41ac-84ee-20c67984090f",
   "metadata": {},
   "source": [
    "##### Q2. How does the topological structure of the reply network differ from the social network in terms of overall sparsity of edges between users and the number of connected groups of users?"
   ]
  },
  {
   "cell_type": "code",
   "execution_count": 4,
   "id": "4515b14a-2a60-42e6-8c0e-4fd1d952203d",
   "metadata": {},
   "outputs": [
    {
     "name": "stdout",
     "output_type": "stream",
     "text": [
      "The density metrics for reply and social network are 0.0 and 0.001 respectively.\n",
      "The number of weakly and strongly connected components for *reply network* are 5920 and 16217 respectively.\n",
      "The number of weakly and strongly connected components for *social network* are 436 and 4648 respectively.\n"
     ]
    }
   ],
   "source": [
    "#CODE: \n",
    "#Calculate overall Sparsity of edges between users\n",
    "density_reply = round(nx.density(G_reply),3)\n",
    "density_social = round(nx.density(G_social),3)\n",
    "\n",
    "print(\"The density metrics for reply and social network are {0} and {1} respectively.\"\\\n",
    "      .format(density_reply,density_social))\n",
    "\n",
    "#Calculate the number of weakly/strongly connected groups of users for reply network\n",
    "no_weakly_connected_reply = nx.number_weakly_connected_components(G_reply)\n",
    "no_strongly_connected_reply = nx.number_strongly_connected_components(G_reply)\n",
    "\n",
    "print(\"The number of weakly and strongly connected components for *reply network* are {0} and {1} respectively.\"\\\n",
    "      .format(no_weakly_connected_reply,no_strongly_connected_reply))\n",
    "\n",
    "#Calculate the number of weakly/strongly connected groups of users for social network\n",
    "no_weakly_connected_social = nx.number_weakly_connected_components(G_social)\n",
    "no_strongly_connected_social = nx.number_strongly_connected_components(G_social)\n",
    "\n",
    "print(\"The number of weakly and strongly connected components for *social network* are {0} and {1} respectively.\"\\\n",
    "      .format(no_weakly_connected_social,no_strongly_connected_social))"
   ]
  },
  {
   "cell_type": "markdown",
   "id": "784d47b6",
   "metadata": {},
   "source": [
    "ANSWER: The reply network is sparser than social according to density metrics. However, the numbers of strongly/weakly connected groups of users in the reply network are greater than those in the social network. \n",
    "- Explanation:\n",
    "    - Density, number of weakly/strongly connected components for two networks were calculated to compare the topological structure.\n",
    "- Justification:\n",
    "    - Density allows analysts to understand how dense or sparse a network is, enabling comparison among networks. \n",
    "    - The number of weakly/strongly connected components represents group of nodes that can reach all of others in the group through undirected/directed edges. \n",
    "    - One may choose to only calculate weakly connected components; however, it is useful to consider both perspectives in the context to understand topological structure."
   ]
  },
  {
   "cell_type": "markdown",
   "id": "9b111ee8-5955-4fb0-a0c3-0901e89a1ae7",
   "metadata": {
    "tags": []
   },
   "source": [
    "##### Q3. Does the number of users a user follows in the social network correlate with the number of replies that they make?"
   ]
  },
  {
   "cell_type": "code",
   "execution_count": 5,
   "id": "e4139df4-2095-4241-8143-e9f14814d992",
   "metadata": {},
   "outputs": [
    {
     "name": "stdout",
     "output_type": "stream",
     "text": [
      "The r-value is 0.07, the p-value is 0.0.\n"
     ]
    }
   ],
   "source": [
    "#CODE:\n",
    "#Create node Order\n",
    "nodeOrder = list(G_reply.nodes())\n",
    "\n",
    "#retrieve the strength(the number of replied - weight of edge) in reply network => the number of replies\n",
    "reply_out_strength = [out_ for (n,out_) in G_reply.out_degree(nodeOrder,weight='occurrences')]\n",
    "\n",
    "#retrieve the out degree in social network => the number of follows\n",
    "follow_out_degree = [out_ for (n,out_) in G_social.out_degree(nodeOrder)]\n",
    "\n",
    "#calculate the pearson r \n",
    "r, p = stats.pearsonr(reply_out_strength, follow_out_degree)\n",
    "\n",
    "#print the result\n",
    "print(\"The r-value is {0}, the p-value is {1}.\".format(round(r, 3), round(p, 3)))"
   ]
  },
  {
   "cell_type": "markdown",
   "id": "972480e1",
   "metadata": {},
   "source": [
    "ANSWER: The r value is 0.07, indicating there is a weak positive linear correlation between two variables. The p-value is 0, meaning the result is strongly likely statistically significant.\n",
    "- Explanation:\n",
    "    - The order of nodes was preserved by using a list of nodes. \n",
    "    - Two variables, namely reply strength and follow degree, were extracted from networks.\n",
    "    - Pearson correlation coefficient was calculated.\n",
    "- Justification: \n",
    "    - The number of replies a user made is the strength (the sum of weights on edges/out degree) in the reply network. If uses out-degree solely, the weight information will be ignored, leading to wrong answer.\n",
    "    - The number of users a user follows is the out degree in the social network. \n",
    "    - Pearson correlation coefficient is used due to its simplicity."
   ]
  },
  {
   "cell_type": "markdown",
   "id": "0e2d2102-f4eb-4a4e-8289-c6b4f8a72e85",
   "metadata": {},
   "source": [
    "##### Q4. Is a user that replies to another user's Tweet multiple times more likely to follow that user in comparison to if they only replied once?"
   ]
  },
  {
   "cell_type": "code",
   "execution_count": 6,
   "id": "26dbd7ae-c713-4f54-9e07-d213a22cf46a",
   "metadata": {},
   "outputs": [
    {
     "name": "stdout",
     "output_type": "stream",
     "text": [
      "Percentage of user who made multiple replies and followed: 0.88\n",
      "Percentage of user who made reply once and followed: 0.84\n"
     ]
    }
   ],
   "source": [
    "#CODE:\n",
    "\n",
    "#Extract source and target pairs where the number of reply from source to target is greather than 1\n",
    "multiple_reply = set([(source,target) for source,target,data in G_reply.edges(data=True) if sum(data.values())>1])\n",
    "\n",
    "#Extract source and target pairs where the number of reply from source to target is equal to 1\n",
    "reply_once = set([(source,target) for source,target,data in  G_reply.edges(data=True) if sum(data.values())==1])\n",
    "\n",
    "#Extract the follow relationship\n",
    "g_social_edges = list(dict(G_social.edges()))\n",
    "\n",
    "#Multiple reply and also follow that user\n",
    "multiple_reply_and_follow = multiple_reply.intersection(g_social_edges)\n",
    "\n",
    "#Reply once and also follow that user\n",
    "reply_once_and_follow = reply_once.intersection(g_social_edges)\n",
    "\n",
    "print(\"Percentage of user who made multiple replies and followed:\",round(len(multiple_reply_and_follow)/len(multiple_reply),2))\n",
    "print(\"Percentage of user who made reply once and followed:\",round(len(reply_once_and_follow)/len(reply_once),2))"
   ]
  },
  {
   "cell_type": "markdown",
   "id": "de889ba9",
   "metadata": {},
   "source": [
    "ANSWER: The percentage difference (0.04) indicates that a user is slightly more likely to follow another user they have replied to multiple times than just once. \n",
    "\n",
    "- Explanation: \n",
    "    - Subsets of source and target pairs that met strength condition were extracted.\n",
    "    - For each subset, its intersection with the edges of social network was formed to represent a replied and followed relationship.\n",
    "    - Percentages were calculated for each subset to represent the reply-follow likelihoods.\n",
    "- Justification:\n",
    "    - Strength refers to the sum of weights on edges, as opposed to degree which simply denotes the number of edges:\n",
    "        - Users who replied to other user multiple times are those with edge weight that is greater than 1.\n",
    "        - Users who replied to other user only once are those with edge weight that is equal 1."
   ]
  },
  {
   "cell_type": "markdown",
   "id": "758e8192-3634-4b37-842c-5930b09861fe",
   "metadata": {},
   "source": [
    "##### Q5. How many users have only mutual following connections (i.e., every user they follow also follows them) and only mutual reply connections with these same users?"
   ]
  },
  {
   "cell_type": "code",
   "execution_count": 7,
   "id": "fb84ca57-63bf-4519-be36-a514bfc2a6fe",
   "metadata": {},
   "outputs": [
    {
     "name": "stdout",
     "output_type": "stream",
     "text": [
      "56\n"
     ]
    }
   ],
   "source": [
    "#CODE:\n",
    "#Calculate users who have only mutual following connections => every user they followed also follows them\n",
    "only_mutual_following = { key for (key,value) in nx.reciprocity(G_social,G_social.nodes()).items() if value == 1}\n",
    "\n",
    "#Calculate users who have only mutual reply connections => every user they reply also reply them\n",
    "only_mutual_reply = { key for (key,value) in nx.reciprocity(G_reply,G_reply.nodes()).items() if value == 1}\n",
    "\n",
    "#Find the pairs for only mutual following\n",
    "pairs_mutual_following = G_social.edges(only_mutual_following)\n",
    "\n",
    "#Find the pairs for only mutual reply\n",
    "pairs_mutual_reply = G_reply.edges(only_mutual_reply)\n",
    "\n",
    "#Find the intersection\n",
    "result_set = set([(u,v) for (u,v) in pairs_mutual_following]).intersection(set([(u,v) for (u,v) in pairs_mutual_reply]))\n",
    "\n",
    "#Get the unique answer by using len on set\n",
    "answer_q5 = len(set([u for u,v in result_set]))\n",
    "\n",
    "print(answer_q5)"
   ]
  },
  {
   "cell_type": "markdown",
   "id": "1ef6281c",
   "metadata": {},
   "source": [
    "ANSWER: 56 users have only mutual following connections and only mutual reply connections with these same users they followed. \n",
    "- Explanation:\n",
    "    - Nodes with only mutual following/reply connections were extracted based on local reciprocity value.\n",
    "    - Then, edges were found given above nodes.\n",
    "    - Intersection between only mutual following and only reply connections edges was found.\n",
    "- Justification:\n",
    "    - Local reciprocity represents the mutual actions occurring among nodes, which is a better choice than in/out degree that excludes actions between the same user.\n",
    "    - For a given node(user):\n",
    "        - Only mutual following connection indicates reciprocity is equal to 1 in social network.\n",
    "        - Only mutual reply connection indicates reciprocity is also equal to 1 reply network."
   ]
  }
 ],
 "metadata": {
  "kernelspec": {
   "display_name": "Python 3",
   "language": "python",
   "name": "python3"
  },
  "language_info": {
   "codemirror_mode": {
    "name": "ipython",
    "version": 3
   },
   "file_extension": ".py",
   "mimetype": "text/x-python",
   "name": "python",
   "nbconvert_exporter": "python",
   "pygments_lexer": "ipython3",
   "version": "3.11.5"
  },
  "toc": {
   "base_numbering": 1,
   "nav_menu": {},
   "number_sections": true,
   "sideBar": true,
   "skip_h1_title": false,
   "title_cell": "Table of Contents",
   "title_sidebar": "Contents",
   "toc_cell": false,
   "toc_position": {},
   "toc_section_display": true,
   "toc_window_display": false
  }
 },
 "nbformat": 4,
 "nbformat_minor": 5
}
